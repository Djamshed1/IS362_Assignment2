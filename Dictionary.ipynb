{
 "cells": [
  {
   "cell_type": "markdown",
   "metadata": {},
   "source": [
    "# Python Dictionary"
   ]
  },
  {
   "cell_type": "markdown",
   "metadata": {},
   "source": [
    "Dictionary is used to map or associate things you want to store with keys. Dictionaries are indexed by keys, which can be immutable type and strings and numbers can be a key. Key will be a single element and values can be a list or list within a list, numbers and etc. Each key is separated from it's value by semi colon (:), the items are separated by commas and the whole thing is enclosed in curly bracket."
   ]
  },
  {
   "cell_type": "markdown",
   "metadata": {},
   "source": [
    "Here is an example of simple dictionary and with the result:"
   ]
  },
  {
   "cell_type": "code",
   "execution_count": 10,
   "metadata": {},
   "outputs": [
    {
     "name": "stdout",
     "output_type": "stream",
     "text": [
      "b\n"
     ]
    }
   ],
   "source": [
    "mytap = (1, 2, 3)\n",
    "mylist = ['a','b','c','d']\n",
    "print (mylist [1])"
   ]
  },
  {
   "cell_type": "code",
   "execution_count": 12,
   "metadata": {},
   "outputs": [
    {
     "name": "stdout",
     "output_type": "stream",
     "text": [
      "25\n"
     ]
    }
   ],
   "source": [
    "Dict = {'John': 25,'Bob':20,'Margaret':18,'Jenny':21}\t\n",
    "print (Dict['John'])"
   ]
  },
  {
   "cell_type": "markdown",
   "metadata": {},
   "source": [
    "### Copying dictionary\n",
    "In the below example, we copy the whole dictionary into Male and Female dictionary."
   ]
  },
  {
   "cell_type": "code",
   "execution_count": 15,
   "metadata": {},
   "outputs": [
    {
     "name": "stdout",
     "output_type": "stream",
     "text": [
      "{'John': 25, 'Bob': 20}\n",
      "{'Margaret': 18, 'Jenny': 21}\n"
     ]
    }
   ],
   "source": [
    "Dict = {'John': 25,'Bob':20,'Margaret':18,'Jenny':21}\n",
    "Male = {'John': 25,'Bob':20}\n",
    "Female = {'Margaret':18,'Jenny':21}\n",
    "M = Male.copy()\n",
    "F = Female.copy()\n",
    "print (M)\n",
    "print (F)"
   ]
  },
  {
   "cell_type": "markdown",
   "metadata": {},
   "source": [
    "### Update dictionary\n",
    "In the below example, we will add a new name and age of the person into the existing dictionary."
   ]
  },
  {
   "cell_type": "code",
   "execution_count": 16,
   "metadata": {},
   "outputs": [
    {
     "name": "stdout",
     "output_type": "stream",
     "text": [
      "{'John': 25, 'Bob': 20, 'Margaret': 18, 'Jenny': 21, 'Kent': 30}\n"
     ]
    }
   ],
   "source": [
    "Dict = {'John': 25,'Bob':20,'Margaret':18,'Jenny':21}\n",
    "Dict.update({\"Kent\":30})\n",
    "print (Dict)"
   ]
  },
  {
   "cell_type": "markdown",
   "metadata": {},
   "source": [
    "### Delete function in dictionary\n",
    "In the below example, we will delete a person with the name of Kent who is 30 years old from the dictionary."
   ]
  },
  {
   "cell_type": "code",
   "execution_count": 17,
   "metadata": {},
   "outputs": [
    {
     "name": "stdout",
     "output_type": "stream",
     "text": [
      "{'John': 25, 'Bob': 20, 'Margaret': 18, 'Jenny': 21}\n"
     ]
    }
   ],
   "source": [
    "Dict = {'John': 25, 'Bob': 20, 'Margaret': 18, 'Jenny': 21, 'Kent': 30}\n",
    "del Dict ['Kent']\n",
    "print (Dict)"
   ]
  },
  {
   "cell_type": "markdown",
   "metadata": {},
   "source": [
    "### Dictionary items() Method\n",
    "The items() method returns a list of tuple pairs (Keys, Value) in the dictionary. In the below example, we will return Customers name and their age in pairs."
   ]
  },
  {
   "cell_type": "code",
   "execution_count": 24,
   "metadata": {},
   "outputs": [
    {
     "name": "stdout",
     "output_type": "stream",
     "text": [
      "Customers Name: dict_items([('John', 25), ('Bob', 20), ('Margaret', 18), ('Jenny', 21)])\n"
     ]
    }
   ],
   "source": [
    "Dict = {'John': 25,'Bob':20,'Margaret':18,'Jenny':21}\n",
    "print (\"Customers Name: %s\" % Dict.items())"
   ]
  }
 ],
 "metadata": {
  "kernelspec": {
   "display_name": "Python 3",
   "language": "python",
   "name": "python3"
  },
  "language_info": {
   "codemirror_mode": {
    "name": "ipython",
    "version": 3
   },
   "file_extension": ".py",
   "mimetype": "text/x-python",
   "name": "python",
   "nbconvert_exporter": "python",
   "pygments_lexer": "ipython3",
   "version": "3.6.1"
  }
 },
 "nbformat": 4,
 "nbformat_minor": 2
}
